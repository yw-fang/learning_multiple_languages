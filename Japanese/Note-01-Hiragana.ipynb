{
 "cells": [
  {
   "cell_type": "markdown",
   "metadata": {},
   "source": [
    "# Note 01. Hiragana\n",
    "\n",
    "## あーかーさーた\n",
    "\n",
    "\n",
    "あ い う え お\n",
    "\n",
    "か き く け こ\n",
    "\n",
    "さ し し せ そ\n",
    "\n",
    "た ち つ て と\n",
    "\n",
    "source Chinese | hiragana | pronunciation\n",
    "------------ | ------------- | ------------- \n",
    "安| あ | a\n",
    "以| い | i\n"
   ]
  },
  {
   "cell_type": "code",
   "execution_count": null,
   "metadata": {},
   "outputs": [],
   "source": []
  }
 ],
 "metadata": {
  "kernelspec": {
   "display_name": "Python 3",
   "language": "python",
   "name": "python3"
  },
  "language_info": {
   "codemirror_mode": {
    "name": "ipython",
    "version": 3
   },
   "file_extension": ".py",
   "mimetype": "text/x-python",
   "name": "python",
   "nbconvert_exporter": "python",
   "pygments_lexer": "ipython3",
   "version": "3.6.3"
  }
 },
 "nbformat": 4,
 "nbformat_minor": 2
}
