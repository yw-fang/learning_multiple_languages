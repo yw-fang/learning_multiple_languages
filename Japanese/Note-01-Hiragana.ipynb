{
 "cells": [
  {
   "cell_type": "code",
   "execution_count": null,
   "metadata": {},
   "outputs": [],
   "source": []
  },
  {
   "cell_type": "markdown",
   "metadata": {},
   "source": [
    "# Note 01. Hiragana 平假名\n",
    "\n",
    "**code of lanuages**\n",
    "\n",
    "- Chinese Simlified: zh-CN\n",
    "- Chinese Traditional: zh-TW\n",
    "- Japanese: ja\n",
    "- German: de\n",
    "- English: en\n",
    "- French: fr\n",
    "\n",
    "## あーかーさーた\n",
    "\n",
    "\n",
    "あ い う え お\n",
    "\n",
    "か き く け こ\n",
    "\n",
    "さ し し せ そ\n",
    "\n",
    "た ち つ て と\n",
    "\n",
    "\n",
    "source Chinese | Hiragana | pronunciation in Romaji\n",
    "------------ | ------------- | ------------- \n",
    "安| あ | a\n",
    "以| い | i\n",
    "宇| う | u\n",
    "衣| え | e\n",
    "於| お | o\n",
    "\n",
    "\n",
    "source Chinese | Hiragana | pronunciation in Romaji\n",
    "------------ | ------------- | ------------- \n",
    "加| か | ka\n",
    "幾| き | ki\n",
    "久| く | ku\n",
    "计| け | ke\n",
    "己| こ | ko\n",
    "\n",
    "source Chinese | Hiragana | pronunciation in Romaji\n",
    "------------ | ------------- | ------------- \n",
    "左| さ | sa\n",
    "之| し | shi\n",
    "寸| す | su\n",
    "世| せ | se\n",
    "曾| そ | so\n",
    "\n",
    "\n",
    "source Chinese | Hiragana | pronunciation in Romaji\n",
    "------------ | ------------- | ------------- \n",
    "太| た | ta\n",
    "知| ち | chi\n",
    "川| つ | tsu\n",
    "天| て | te\n",
    "止| と | to\n",
    "\n",
    "### Vocabularies\n",
    "\n",
    "Hirakana/Katakana | Kanji | Chinese meaning | English meaning | Deutsch meaning\n",
    "------------ | ------------- | ------------- | ------------- | -------------\n",
    "あい | 愛　| 爱 | love | Liebe\n",
    "いえ | 家　|　房子 | house | Ein Haus\n",
    "あおい | 青い　| 蓝色 | blue | Blau\n",
    "\n",
    "Hirakana/Katakana | Kanji | Chinese meaning | English meaning \n",
    "------------ | ------------- | ------------- | ------------- \n",
    "かき | 牡蠣/柿 | 牡蛎/柿 | oyster/kaki\n",
    "きく | 菊 | 菊花 | chrysanthemum\n",
    "いけ | 池 | 水池 | pond\n",
    "こい | 恋 | 恋爱 | love\n",
    " \n",
    "\n",
    "Hirakana/Katakana | Kanji | Chinese meaning | English meaning \n",
    "------------ | ------------- | ------------- | ------------- \n",
    "さけ | 酒 | 酒 | liquor\n",
    "すし | 寿司 | 寿司 | sushi\n",
    "あせ | 汗 | 汗水 | sweat\n",
    "うそ | 嘘 | 谎言 | lie\n",
    "\n",
    "\n",
    "Hirakana/Katakana | Kanji | Chinese meaning | English meaning \n",
    "------------ | ------------- | ------------- | ------------- \n",
    "うた | 歌 | 歌曲 | song\n",
    "した | 下 | 下面 | under\n",
    "ちち | 父 | 父亲 | father\n",
    "わかて | 若手 | 年轻 | young\n",
    "ちかてち | 地下鉄 | 地铁| metroway/subway \n",
    "テスト | -- | 考试 | test/examination \n"
   ]
  },
  {
   "cell_type": "markdown",
   "metadata": {},
   "source": [
    "** Tips\n",
    "\n",
    "**Input in Mac**\n",
    "\n",
    "when using inputmethod in Mac, we can use some shortcuts to switch between Romaji, Hiragana and Katakana　once Japancese mode is turned on.\n",
    "\n",
    "shortcut name | inputmethod\n",
    "------------ | ------------- | \n",
    "control+shift+; | Romaji\n",
    "control+shift+j | Hiragana\n",
    "control+shift+k | Katakana\n",
    "\n",
    "**Tranlations**\n",
    "\n",
    "These translations in this note were achived by using 'translate-shell' as mentioned in [Tools.md](../Tools.md)"
   ]
  },
  {
   "cell_type": "markdown",
   "metadata": {},
   "source": []
  },
  {
   "cell_type": "code",
   "execution_count": 13,
   "metadata": {},
   "outputs": [
    {
     "name": "stdout",
     "output_type": "stream",
     "text": [
      "近畿地方\r\n",
      "(Jìnjī dìfāng)\r\n",
      "\r\n",
      "\u001b[1m近畿地方\u001b[22m\r\n",
      "\u001b[1m(Kinki chihō)\u001b[22m\r\n",
      "\r\n",
      "Translations of \u001b[4m近畿地方\u001b[24m\r\n",
      "[ \u001b[4m简体中文\u001b[24m -> \u001b[1m日本語\u001b[22m ]\r\n",
      "\r\n",
      "\u001b[4m近畿地方\u001b[24m\r\n",
      "    \u001b[1m近畿地方\u001b[22m, \u001b[1m近畿\u001b[22m\r\n"
     ]
    }
   ],
   "source": [
    "!trans :ja 近畿地方"
   ]
  },
  {
   "cell_type": "code",
   "execution_count": 4,
   "metadata": {},
   "outputs": [
    {
     "name": "stdout",
     "output_type": "stream",
     "text": [
      "Hiragana\r\n",
      "/ˌhi(ə)rəˈgänə/\r\n",
      "\r\n",
      "\u001b[1m平假名\u001b[22m\r\n",
      "\u001b[1m(Píng jiǎmíng)\u001b[22m\r\n",
      "\r\n",
      "Translations of \u001b[4mHiragana\u001b[24m\r\n",
      "[ \u001b[4mEnglish\u001b[24m -> \u001b[1m简体中文\u001b[22m ]\r\n",
      "\r\n",
      "\u001b[4mHiragana\u001b[24m\r\n",
      "    \u001b[1m平假名\u001b[22m, \u001b[1mあ\u001b[22m, \u001b[1m平假名的\u001b[22m, \u001b[1m假名\u001b[22m, \u001b[1m日文平假名\u001b[22m\r\n"
     ]
    }
   ],
   "source": [
    "!trans :zh-CN Hiragana"
   ]
  },
  {
   "cell_type": "code",
   "execution_count": 21,
   "metadata": {},
   "outputs": [
    {
     "name": "stdout",
     "output_type": "stream",
     "text": [
      "愛\r\n",
      "(Ài)\r\n",
      "\r\n",
      "\u001b[1m愛\u001b[22m\r\n",
      "\u001b[1m(Ài)\u001b[22m\r\n"
     ]
    }
   ],
   "source": [
    "!trans :zh-TW 愛"
   ]
  },
  {
   "cell_type": "code",
   "execution_count": 20,
   "metadata": {},
   "outputs": [
    {
     "name": "stdout",
     "output_type": "stream",
     "text": [
      "曾\r\n",
      "(Céng)\r\n",
      "\r\n",
      "See also\r\n",
      "    \u001b[1m曾经\u001b[22m, \u001b[1m未曾\u001b[22m, \u001b[1m曾经沧海\u001b[22m\r\n"
     ]
    }
   ],
   "source": [
    "!trans :zh-CN 曾"
   ]
  },
  {
   "cell_type": "code",
   "execution_count": 23,
   "metadata": {},
   "outputs": [
    {
     "name": "stdout",
     "output_type": "stream",
     "text": [
      "かき\n",
      "(Kaki)\n",
      "\n",
      "\u001b[1mOysters\u001b[22m\n",
      "\n",
      "Definitions of \u001b[4mかき\u001b[24m\n",
      "[ \u001b[4m日本語\u001b[24m -> \u001b[1mEnglish\u001b[22m ]\n",
      "\n",
      "noun\n",
      "\u001b[1m    nipper\u001b[22m\n",
      "        毛抜き, かき\n",
      "\n",
      "\u001b[4mかき\u001b[24m\n",
      "    \u001b[1mOysters\u001b[22m, \u001b[1mPersimmon\u001b[22m\n",
      "レシピ\n",
      "(Reshipi)\n",
      "\n",
      "\u001b[1mrecipe\u001b[22m\n",
      "\n",
      "Translations of \u001b[4mレシピ\u001b[24m\n",
      "[ \u001b[4m日本語\u001b[24m -> \u001b[1mEnglish\u001b[22m ]\n",
      "\n",
      "\u001b[4mレシピ\u001b[24m\n",
      "    \u001b[1mrecipe\u001b[22m\n"
     ]
    }
   ],
   "source": [
    "!trans :en かき レシピ"
   ]
  },
  {
   "cell_type": "code",
   "execution_count": 25,
   "metadata": {},
   "outputs": [
    {
     "name": "stdout",
     "output_type": "stream",
     "text": [
      "手\r\n",
      "(Shǒu)\r\n",
      "\r\n",
      "\u001b[1m手\u001b[22m\r\n",
      "\u001b[1m(Te)\u001b[22m\r\n",
      "\r\n",
      "Translations of \u001b[4m手\u001b[24m\r\n",
      "[ \u001b[4m简体中文\u001b[24m -> \u001b[1m日本語\u001b[22m ]\r\n",
      "\r\n",
      "\u001b[4m手\u001b[24m\r\n",
      "    \u001b[1m手\u001b[22m\r\n"
     ]
    }
   ],
   "source": [
    "!trans :ja 手"
   ]
  },
  {
   "cell_type": "code",
   "execution_count": null,
   "metadata": {},
   "outputs": [],
   "source": []
  }
 ],
 "metadata": {
  "kernelspec": {
   "display_name": "Python 3",
   "language": "python",
   "name": "python3"
  },
  "language_info": {
   "codemirror_mode": {
    "name": "ipython",
    "version": 3
   },
   "file_extension": ".py",
   "mimetype": "text/x-python",
   "name": "python",
   "nbconvert_exporter": "python",
   "pygments_lexer": "ipython3",
   "version": "3.6.3"
  }
 },
 "nbformat": 4,
 "nbformat_minor": 2
}
