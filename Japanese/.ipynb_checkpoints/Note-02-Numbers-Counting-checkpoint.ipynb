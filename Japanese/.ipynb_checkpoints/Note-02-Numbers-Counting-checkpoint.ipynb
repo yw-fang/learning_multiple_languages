{
 "cells": [
  {
   "cell_type": "markdown",
   "metadata": {},
   "source": [
    "FANG Yue-Wen May 30th, 2018, in Kyoto"
   ]
  },
  {
   "cell_type": "markdown",
   "metadata": {},
   "source": [
    "In Kim's guide to learning Japanese, the numbers and countings using Japanese are introduced. \n",
    "http://www.guidetojapanese.org/learn/grammar/numbers\n",
    "\n",
    "Kim self learnt Japanese, and have been working in Japaan for several years. He published a small book in 2014 named A \"Guide to Japanese Grammar: A Japanese approach to learning Japanese grammar\". I have its ebook, but I prefer my text book published by 東京工業大学"
   ]
  },
  {
   "cell_type": "code",
   "execution_count": null,
   "metadata": {},
   "outputs": [],
   "source": []
  }
 ],
 "metadata": {
  "kernelspec": {
   "display_name": "Python 3",
   "language": "python",
   "name": "python3"
  },
  "language_info": {
   "codemirror_mode": {
    "name": "ipython",
    "version": 3
   },
   "file_extension": ".py",
   "mimetype": "text/x-python",
   "name": "python",
   "nbconvert_exporter": "python",
   "pygments_lexer": "ipython3",
   "version": "3.6.3"
  }
 },
 "nbformat": 4,
 "nbformat_minor": 2
}
